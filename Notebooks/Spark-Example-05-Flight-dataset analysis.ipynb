{
 "cells": [
  {
   "attachments": {},
   "cell_type": "markdown",
   "metadata": {},
   "source": [
    "# Example - Flight Data Preprocessing and loading "
   ]
  },
  {
   "cell_type": "code",
   "execution_count": 6,
   "metadata": {},
   "outputs": [],
   "source": [
    "import findspark\n",
    "findspark.init()\n",
    "from pyspark import SparkContext\n",
    "from pyspark.sql import SparkSession\n",
    "sc = SparkContext(\"local\")\n",
    "spark = SparkSession.builder.getOrCreate()"
   ]
  },
  {
   "attachments": {},
   "cell_type": "markdown",
   "metadata": {},
   "source": [
    "\n",
    "## Step-1: First you need download and move the file data\n",
    "\n",
    "The following command runs on Unix-based operating systems. \n",
    "\n",
    "Download it from this link https://storage.googleapis.com/met-cs-777-data/flights.csv.bz2 \n",
    "File size is 135 MB \n",
    "\n"
   ]
  },
  {
   "cell_type": "code",
   "execution_count": 2,
   "metadata": {},
   "outputs": [
    {
     "name": "stdout",
     "output_type": "stream",
     "text": [
      "total 158792\n",
      "drwxrwxrwx 1 dimitar dimitar       512 Feb 27 20:08 .\n",
      "drwxrwxrwx 1 dimitar dimitar       512 Feb 27 20:08 ..\n",
      "-rwxrwxrwx 1 dimitar dimitar     49184 Jan 20 01:31 Alices-Adventures-in-Wonderland-by-Lewis-Carroll.txt.bz2\n",
      "-rwxrwxrwx 1 dimitar dimitar  19358733 Jan 20 01:31 IMDB Dataset.csv.bz2\n",
      "-rwxrwxrwx 1 dimitar dimitar      4062 Jan 20 01:31 advertising.csv\n",
      "-rwxrwxrwx 2 dimitar dimitar 141250930 Mar 11  2022 flights.csv.bz2\n",
      "-rwxrwxrwx 1 dimitar dimitar      3020 Feb 14 17:44 netflix-subscription.csv\n",
      "-rwxrwxrwx 1 dimitar dimitar         0 Jan 20 01:31 placeholder\n",
      "-rwxrwxrwx 1 dimitar dimitar   1921037 Sep  6 21:17 taxi-data-sorted-verysmall.csv\n"
     ]
    }
   ],
   "source": [
    "%%bash \n",
    "# Dataset is stored on Google cloud\n",
    "# https://storage.googleapis.com/met-cs-777-data/flights.csv.bz2 \n",
    "# or from inside S3\n",
    "# s3://metcs777/flights.csv.bz2\n",
    "\n",
    "# Uncomment the following lines to download the datasets \n",
    "wget -q https://storage.googleapis.com/met-cs-777-data/flights.csv.bz2 \n",
    "mv flights.csv.bz2 ./data/\n",
    "ls -la ./data/"
   ]
  },
  {
   "cell_type": "code",
   "execution_count": 5,
   "metadata": {},
   "outputs": [
    {
     "name": "stdout",
     "output_type": "stream",
     "text": [
      "total 158816\n",
      "drwxrwxrwx 1 dimitar dimitar       512 Feb 27 20:09 .\n",
      "drwxrwxrwx 1 dimitar dimitar       512 Feb 27 20:09 ..\n",
      "-rwxrwxrwx 1 dimitar dimitar     49184 Jan 20 01:31 Alices-Adventures-in-Wonderland-by-Lewis-Carroll.txt.bz2\n",
      "-rwxrwxrwx 1 dimitar dimitar  19358733 Jan 20 01:31 IMDB Dataset.csv.bz2\n",
      "-rwxrwxrwx 1 dimitar dimitar      4062 Jan 20 01:31 advertising.csv\n",
      "-rwxrwxrwx 1 dimitar dimitar       359 Mar 11  2022 airlines.csv\n",
      "-rwxrwxrwx 1 dimitar dimitar     23867 Mar 11  2022 airports.csv\n",
      "-rwxrwxrwx 2 dimitar dimitar 141250930 Mar 11  2022 flights.csv.bz2\n",
      "-rwxrwxrwx 1 dimitar dimitar      3020 Feb 14 17:44 netflix-subscription.csv\n",
      "-rwxrwxrwx 1 dimitar dimitar         0 Jan 20 01:31 placeholder\n",
      "-rwxrwxrwx 1 dimitar dimitar   1921037 Sep  6 21:17 taxi-data-sorted-verysmall.csv\n"
     ]
    }
   ],
   "source": [
    "%%bash\n",
    "# Now, let us get the Airports and Airlines datasets \n",
    "# And Link these data sets. \n",
    "\n",
    "# AirLine dataset https://storage.googleapis.com/met-cs-777-data/airlines.csv\n",
    "# Airport dataset https://storage.googleapis.com/met-cs-777-data/airports.csv\n",
    "wget -q https://storage.googleapis.com/met-cs-777-data/airlines.csv\n",
    "\n",
    "mv  airlines.csv   ./data/\n",
    "\n",
    "wget -q https://storage.googleapis.com/met-cs-777-data/airports.csv\n",
    "\n",
    "mv  airports.csv  ./data/ \n",
    "ls -la ./data/"
   ]
  },
  {
   "cell_type": "code",
   "execution_count": 7,
   "metadata": {},
   "outputs": [
    {
     "data": {
      "text/plain": [
       "'YEAR,MONTH,DAY,DAY_OF_WEEK,AIRLINE,FLIGHT_NUMBER,TAIL_NUMBER,ORIGIN_AIRPORT,DESTINATION_AIRPORT,SCHEDULED_DEPARTURE,DEPARTURE_TIME,DEPARTURE_DELAY,TAXI_OUT,WHEELS_OFF,SCHEDULED_TIME,ELAPSED_TIME,AIR_TIME,DISTANCE,WHEELS_ON,TAXI_IN,SCHEDULED_ARRIVAL,ARRIVAL_TIME,ARRIVAL_DELAY,DIVERTED,CANCELLED,CANCELLATION_REASON,AIR_SYSTEM_DELAY,SECURITY_DELAY,AIRLINE_DELAY,LATE_AIRCRAFT_DELAY,WEATHER_DELAY'"
      ]
     },
     "execution_count": 7,
     "metadata": {},
     "output_type": "execute_result"
    }
   ],
   "source": [
    "lines = sc.textFile(\"./data/flights.csv.bz2\")\n",
    "\n",
    "# First line is the header. \n",
    "lines.first()"
   ]
  },
  {
   "cell_type": "code",
   "execution_count": 8,
   "metadata": {},
   "outputs": [
    {
     "data": {
      "text/plain": [
       "['YEAR,MONTH,DAY,DAY_OF_WEEK,AIRLINE,FLIGHT_NUMBER,TAIL_NUMBER,ORIGIN_AIRPORT,DESTINATION_AIRPORT,SCHEDULED_DEPARTURE,DEPARTURE_TIME,DEPARTURE_DELAY,TAXI_OUT,WHEELS_OFF,SCHEDULED_TIME,ELAPSED_TIME,AIR_TIME,DISTANCE,WHEELS_ON,TAXI_IN,SCHEDULED_ARRIVAL,ARRIVAL_TIME,ARRIVAL_DELAY,DIVERTED,CANCELLED,CANCELLATION_REASON,AIR_SYSTEM_DELAY,SECURITY_DELAY,AIRLINE_DELAY,LATE_AIRCRAFT_DELAY,WEATHER_DELAY',\n",
       " '2015,1,1,4,AS,98,N407AS,ANC,SEA,0005,2354,-11,21,0015,205,194,169,1448,0404,4,0430,0408,-22,0,0,,,,,,']"
      ]
     },
     "execution_count": 8,
     "metadata": {},
     "output_type": "execute_result"
    }
   ],
   "source": [
    "# First line is the header \n",
    "lines.take(2)"
   ]
  },
  {
   "cell_type": "code",
   "execution_count": 9,
   "metadata": {},
   "outputs": [
    {
     "data": {
      "text/plain": [
       "'2015,1,1,4,AS,730,N423AS,ANC,SEA,0505,0457,-8,16,0513,205,199,179,1448,0912,4,0930,0916,-14,0,0,,,,,,'"
      ]
     },
     "execution_count": 9,
     "metadata": {},
     "output_type": "execute_result"
    }
   ],
   "source": [
    "# Remove the header from the RDD\n",
    "linesHeader = lines.first()\n",
    "header = sc.parallelize([linesHeader])\n",
    "linesWithOutHeader = lines.subtract(header)\n",
    "linesWithOutHeader.first()"
   ]
  },
  {
   "cell_type": "code",
   "execution_count": 10,
   "metadata": {},
   "outputs": [
    {
     "data": {
      "text/plain": [
       "['2015',\n",
       " '1',\n",
       " '1',\n",
       " '4',\n",
       " 'AS',\n",
       " '730',\n",
       " 'N423AS',\n",
       " 'ANC',\n",
       " 'SEA',\n",
       " '0505',\n",
       " '0457',\n",
       " '-8',\n",
       " '16',\n",
       " '0513',\n",
       " '205',\n",
       " '199',\n",
       " '179',\n",
       " '1448',\n",
       " '0912',\n",
       " '4',\n",
       " '0930',\n",
       " '0916',\n",
       " '-14',\n",
       " '0',\n",
       " '0',\n",
       " '',\n",
       " '',\n",
       " '',\n",
       " '',\n",
       " '',\n",
       " '']"
      ]
     },
     "execution_count": 10,
     "metadata": {},
     "output_type": "execute_result"
    }
   ],
   "source": [
    "# The data is about the flights from different airports which includes following attributes\n",
    "#[u'YEAR,MONTH,DAY,DAY_OF_WEEK,AIRLINE,FLIGHT_NUMBER,TAIL_NUMBER,ORIGIN_AIRPORT,DESTINATION_AIRPORT,SCHEDULED_DEPARTURE,DEPARTURE_TIME,DEPARTURE_DELAY,TAXI_OUT,WHEELS_OFF,SCHEDULED_TIME,ELAPSED_TIME,AIR_TIME,DISTANCE,WHEELS_ON,TAXI_IN,SCHEDULED_ARRIVAL,ARRIVAL_TIME,ARRIVAL_DELAY,DIVERTED,CANCELLED,CANCELLATION_REASON,AIR_SYSTEM_DELAY,SECURITY_DELAY,AIRLINE_DELAY,LATE_AIRCRAFT_DELAY,WEATHER_DELAY']\n",
    "flights = linesWithOutHeader.map(lambda x: x.split(','))\n",
    "flights.first()"
   ]
  },
  {
   "cell_type": "code",
   "execution_count": 11,
   "metadata": {},
   "outputs": [
    {
     "data": {
      "text/plain": [
       "['2015',\n",
       " '1',\n",
       " '1',\n",
       " '4',\n",
       " 'AS',\n",
       " '730',\n",
       " 'N423AS',\n",
       " 'ANC',\n",
       " 'SEA',\n",
       " '0505',\n",
       " '0457',\n",
       " '-8',\n",
       " '16',\n",
       " '0513',\n",
       " '205',\n",
       " '199',\n",
       " '179',\n",
       " '1448',\n",
       " '0912',\n",
       " '4',\n",
       " '0930',\n",
       " '0916',\n",
       " '-14',\n",
       " '0',\n",
       " '0',\n",
       " '',\n",
       " '',\n",
       " '',\n",
       " '',\n",
       " '',\n",
       " '']"
      ]
     },
     "execution_count": 11,
     "metadata": {},
     "output_type": "execute_result"
    }
   ],
   "source": [
    "# We expect to have 31 data elements. \n",
    "# We go ahead and remove all rows that do not include 31 elements\n",
    "dataFiltered=flights.filter(lambda x: len(x)==31)\n",
    "dataFiltered.first()"
   ]
  },
  {
   "cell_type": "code",
   "execution_count": 12,
   "metadata": {},
   "outputs": [
    {
     "data": {
      "text/plain": [
       "('2015',\n",
       " '1',\n",
       " '1',\n",
       " '4',\n",
       " 'AS',\n",
       " '730',\n",
       " 'N423AS',\n",
       " 'ANC',\n",
       " 'SEA',\n",
       " '0505',\n",
       " '0457',\n",
       " '-8',\n",
       " '0')"
      ]
     },
     "execution_count": 12,
     "metadata": {},
     "output_type": "execute_result"
    }
   ],
   "source": [
    "# YEAR,MONTH,DAY,DAY_OF_WEEK,AIRLINE,FLIGHT_NUMBER,TAIL_NUMBER,ORIGIN_AIRPORT,DESTINATION_AIRPORT,SCHEDULED_DEPARTURE,DEPARTURE_TIME,DEPARTURE_DELAY, CANCELLED\n",
    "# We only need the following elements\n",
    "mainFlightsData = dataFiltered.map(lambda p: (p[0], p[1] , p[2] , p[3], p[4] , p[5] , p[6], p[7] , p[8] , p[9], p[10], p[11], p[24] ))\n",
    "\n",
    "# Cache this RDD, we will use it alot\n",
    "mainFlightsData.cache()\n",
    "\n",
    "# Show the first \n",
    "mainFlightsData.first()\n",
    "\n",
    "# Note: this new RDD will have only 13 elements (max index 12) \n",
    "\n",
    "# 0 YEAR,\n",
    "# 1 MONTH,\n",
    "# 2 DAY,\n",
    "# 3 DAY_OF_WEEK,\n",
    "# 4 AIRLINE, \n",
    "# 5 FLIGHT_NUMBER,\n",
    "# 6 TAIL_NUMBER,\n",
    "# 7 ORIGIN_AIRPORT,\n",
    "# 8 DESTINATION_AIRPORT,\n",
    "# 9 SCHEDULED_DEPARTURE,\n",
    "# 10 DEPARTURE_TIME,\n",
    "# 11 DEPARTURE_DELAY, \n",
    "# 12 CANCELLED"
   ]
  },
  {
   "cell_type": "code",
   "execution_count": 15,
   "metadata": {},
   "outputs": [
    {
     "data": {
      "text/plain": [
       "['IATA_CODE,AIRLINE', 'UA,United Air Lines Inc.']"
      ]
     },
     "execution_count": 15,
     "metadata": {},
     "output_type": "execute_result"
    }
   ],
   "source": [
    "airlines = sc.textFile(\"./data/airlines.csv\")\n",
    "airlines.take(2)"
   ]
  },
  {
   "cell_type": "code",
   "execution_count": 16,
   "metadata": {},
   "outputs": [
    {
     "data": {
      "text/plain": [
       "['IATA_CODE,AIRPORT,CITY,STATE,COUNTRY,LATITUDE,LONGITUDE',\n",
       " 'ABE,Lehigh Valley International Airport,Allentown,PA,USA,40.65236,-75.44040']"
      ]
     },
     "execution_count": 16,
     "metadata": {},
     "output_type": "execute_result"
    }
   ],
   "source": [
    "airports = sc.textFile(\"./data/airports.csv\")\n",
    "airports.take(2)"
   ]
  },
  {
   "cell_type": "code",
   "execution_count": 17,
   "metadata": {},
   "outputs": [
    {
     "data": {
      "text/plain": [
       "'UA,United Air Lines Inc.'"
      ]
     },
     "execution_count": 17,
     "metadata": {},
     "output_type": "execute_result"
    }
   ],
   "source": [
    "# Remove the header from the RDD\n",
    "airlinesHeader = airlines.first()\n",
    "header1 = sc.parallelize([airlinesHeader])\n",
    "airlinesWithOutHeader = airlines.subtract(header1)\n",
    "airlinesWithOutHeader.first()"
   ]
  },
  {
   "cell_type": "code",
   "execution_count": 18,
   "metadata": {},
   "outputs": [
    {
     "data": {
      "text/plain": [
       "'ABI,Abilene Regional Airport,Abilene,TX,USA,32.41132,-99.68190'"
      ]
     },
     "execution_count": 18,
     "metadata": {},
     "output_type": "execute_result"
    }
   ],
   "source": [
    "# Remove the header from the RDD\n",
    "airportsHeader = airports.first()\n",
    "header1 = sc.parallelize([airportsHeader])\n",
    "airportsWithOutHeader = airports.subtract(header1)\n",
    "airportsWithOutHeader.first()"
   ]
  },
  {
   "cell_type": "code",
   "execution_count": null,
   "metadata": {},
   "outputs": [],
   "source": []
  }
 ],
 "metadata": {
  "kernelspec": {
   "display_name": "spark",
   "language": "python",
   "name": "python3"
  },
  "language_info": {
   "codemirror_mode": {
    "name": "ipython",
    "version": 3
   },
   "file_extension": ".py",
   "mimetype": "text/x-python",
   "name": "python",
   "nbconvert_exporter": "python",
   "pygments_lexer": "ipython3",
   "version": "3.10.4"
  },
  "vscode": {
   "interpreter": {
    "hash": "9db6cbf0fd79f8e79653fe7b0c50b956ca6e525ee712295da3c66f75e4fe96ce"
   }
  }
 },
 "nbformat": 4,
 "nbformat_minor": 2
}
